{
 "cells": [
  {
   "cell_type": "code",
   "execution_count": 1,
   "id": "003b4bb5",
   "metadata": {},
   "outputs": [],
   "source": [
    "import os, csv\n",
    "import numpy as np\n",
    "import matplotlib.pyplot as plt\n",
    "%matplotlib inline\n",
    "import pandas as pd"
   ]
  },
  {
   "cell_type": "code",
   "execution_count": 40,
   "id": "fbd7e00c",
   "metadata": {},
   "outputs": [],
   "source": [
    "SAVE_PATH = r\"C:\\Users\\Michael Lee\\Dropbox (MIT)\\BLP Lab Files\\Lab\\Notebook\\313 Notebook\\313-152 CBP-1 Lib Sequencing Runs\"\n",
    "FILE = r\"C:\\Users\\Michael Lee\\Dropbox (MIT)\\BLP Lab Files\\Lab\\Notebook\\313 Notebook\\313-152 CBP-1 Lib Sequencing Runs\\Hot mCDH2 Full Output.csv\"\n",
    "name = 'mCDH2 Hot Lib Filtered'"
   ]
  },
  {
   "cell_type": "code",
   "execution_count": 41,
   "id": "d9c66a72",
   "metadata": {},
   "outputs": [],
   "source": [
    "data = []\n",
    "with open(FILE, 'r') as file:\n",
    "    csv_reader = csv.DictReader(file,delimiter=',')\n",
    "    for row in csv_reader:\n",
    "        data.append(row)"
   ]
  },
  {
   "cell_type": "code",
   "execution_count": 42,
   "id": "d6244ba8",
   "metadata": {},
   "outputs": [],
   "source": [
    "RTs = []\n",
    "Escores = []\n",
    "mzs = []\n",
    "ps = []\n",
    "zs = []\n",
    "specs = []\n",
    "for line in data:\n",
    "    idx = line['Compound'].find('RTime:')\n",
    "    Escores.append(float(line['Compound'][8:idx-1]))\n",
    "    RTs.append(float(line['Compound'][idx+7:])/60)   # convert to mins\n",
    "    mzs.append(float(line['m/z']))\n",
    "    zs.append(float(line['z']))\n",
    "    ps.append(float(line['p value']))\n",
    "    specs.append(line['specificity'])\n",
    "    \n",
    "RT_ranges = [(max(3,RT - 10),min(RT+10,120)) for RT in RTs]   # method is 120 mins, MS on at 3 mins\n",
    "\n",
    "### if using \"inclusion list\" file\n",
    "\n",
    "# for line in data:\n",
    "#     idx = line['Compound'].find('RTime:')\n",
    "#     idx_e = line['Compound'].find('p value')\n",
    "#     Escores.append(float(line['Compound'][8:idx_e-1]))\n",
    "#     RTs.append(float(line['Compound'][idx+7:])/60)   # convert to mins\n",
    "#     mzs.append(float(line['m/z']))\n",
    "#     zs.append(float(line['z']))\n",
    "#     ps.append(float(line['Compound'][idx_e+9:idx-1]))\n",
    "    \n",
    "# RT_ranges = [(max(3,RT - 10),min(RT+10,120)) for RT in RTs]   # method is 120 mins, MS on at 3 mins"
   ]
  },
  {
   "cell_type": "code",
   "execution_count": 43,
   "id": "b3bf1794",
   "metadata": {},
   "outputs": [
    {
     "data": {
      "text/html": [
       "<div>\n",
       "<style scoped>\n",
       "    .dataframe tbody tr th:only-of-type {\n",
       "        vertical-align: middle;\n",
       "    }\n",
       "\n",
       "    .dataframe tbody tr th {\n",
       "        vertical-align: top;\n",
       "    }\n",
       "\n",
       "    .dataframe thead th {\n",
       "        text-align: right;\n",
       "    }\n",
       "</style>\n",
       "<table border=\"1\" class=\"dataframe\">\n",
       "  <thead>\n",
       "    <tr style=\"text-align: right;\">\n",
       "      <th></th>\n",
       "      <th>Escore</th>\n",
       "      <th>RT</th>\n",
       "      <th>mz</th>\n",
       "      <th>z</th>\n",
       "      <th>p</th>\n",
       "      <th>spec</th>\n",
       "    </tr>\n",
       "  </thead>\n",
       "  <tbody>\n",
       "    <tr>\n",
       "      <th>0</th>\n",
       "      <td>1.0</td>\n",
       "      <td>38.983683</td>\n",
       "      <td>437.2207</td>\n",
       "      <td>3.0</td>\n",
       "      <td>1.0</td>\n",
       "      <td>Unclear</td>\n",
       "    </tr>\n",
       "    <tr>\n",
       "      <th>1</th>\n",
       "      <td>1.0</td>\n",
       "      <td>52.04715</td>\n",
       "      <td>395.6862</td>\n",
       "      <td>2.0</td>\n",
       "      <td>1.0</td>\n",
       "      <td>Unclear</td>\n",
       "    </tr>\n",
       "    <tr>\n",
       "      <th>2</th>\n",
       "      <td>1.0</td>\n",
       "      <td>79.646867</td>\n",
       "      <td>522.2471</td>\n",
       "      <td>2.0</td>\n",
       "      <td>1.0</td>\n",
       "      <td>Unclear</td>\n",
       "    </tr>\n",
       "    <tr>\n",
       "      <th>3</th>\n",
       "      <td>1.0</td>\n",
       "      <td>66.075017</td>\n",
       "      <td>463.2272</td>\n",
       "      <td>2.0</td>\n",
       "      <td>1.0</td>\n",
       "      <td>Unclear</td>\n",
       "    </tr>\n",
       "    <tr>\n",
       "      <th>4</th>\n",
       "      <td>1.0</td>\n",
       "      <td>38.151483</td>\n",
       "      <td>365.914</td>\n",
       "      <td>2.0</td>\n",
       "      <td>1.0</td>\n",
       "      <td>Unclear</td>\n",
       "    </tr>\n",
       "    <tr>\n",
       "      <th>...</th>\n",
       "      <td>...</td>\n",
       "      <td>...</td>\n",
       "      <td>...</td>\n",
       "      <td>...</td>\n",
       "      <td>...</td>\n",
       "      <td>...</td>\n",
       "    </tr>\n",
       "    <tr>\n",
       "      <th>12316</th>\n",
       "      <td>0.0</td>\n",
       "      <td>34.374367</td>\n",
       "      <td>424.6677</td>\n",
       "      <td>2.0</td>\n",
       "      <td>1.0</td>\n",
       "      <td>Unclear</td>\n",
       "    </tr>\n",
       "    <tr>\n",
       "      <th>12317</th>\n",
       "      <td>0.0</td>\n",
       "      <td>58.804083</td>\n",
       "      <td>397.652</td>\n",
       "      <td>2.0</td>\n",
       "      <td>1.0</td>\n",
       "      <td>Unclear</td>\n",
       "    </tr>\n",
       "    <tr>\n",
       "      <th>12318</th>\n",
       "      <td>0.0</td>\n",
       "      <td>29.759983</td>\n",
       "      <td>465.2195</td>\n",
       "      <td>3.0</td>\n",
       "      <td>1.0</td>\n",
       "      <td>Unclear</td>\n",
       "    </tr>\n",
       "    <tr>\n",
       "      <th>12319</th>\n",
       "      <td>0.0</td>\n",
       "      <td>45.04125</td>\n",
       "      <td>410.8827</td>\n",
       "      <td>3.0</td>\n",
       "      <td>1.0</td>\n",
       "      <td>Unclear</td>\n",
       "    </tr>\n",
       "    <tr>\n",
       "      <th>12320</th>\n",
       "      <td>0.0</td>\n",
       "      <td>16.8031</td>\n",
       "      <td>332.967</td>\n",
       "      <td>3.0</td>\n",
       "      <td>1.0</td>\n",
       "      <td>Unclear</td>\n",
       "    </tr>\n",
       "  </tbody>\n",
       "</table>\n",
       "<p>12321 rows × 6 columns</p>\n",
       "</div>"
      ],
      "text/plain": [
       "      Escore         RT        mz    z    p     spec\n",
       "0        1.0  38.983683  437.2207  3.0  1.0  Unclear\n",
       "1        1.0   52.04715  395.6862  2.0  1.0  Unclear\n",
       "2        1.0  79.646867  522.2471  2.0  1.0  Unclear\n",
       "3        1.0  66.075017  463.2272  2.0  1.0  Unclear\n",
       "4        1.0  38.151483   365.914  2.0  1.0  Unclear\n",
       "...      ...        ...       ...  ...  ...      ...\n",
       "12316    0.0  34.374367  424.6677  2.0  1.0  Unclear\n",
       "12317    0.0  58.804083   397.652  2.0  1.0  Unclear\n",
       "12318    0.0  29.759983  465.2195  3.0  1.0  Unclear\n",
       "12319    0.0   45.04125  410.8827  3.0  1.0  Unclear\n",
       "12320    0.0    16.8031   332.967  3.0  1.0  Unclear\n",
       "\n",
       "[12321 rows x 6 columns]"
      ]
     },
     "execution_count": 43,
     "metadata": {},
     "output_type": "execute_result"
    }
   ],
   "source": [
    "dataframe = pd.DataFrame([Escores,RTs,mzs,zs,ps,specs]).transpose()\n",
    "dataframe.columns = ['Escore','RT','mz','z','p','spec']\n",
    "dataframe"
   ]
  },
  {
   "cell_type": "code",
   "execution_count": 44,
   "id": "8060851b",
   "metadata": {},
   "outputs": [
    {
     "data": {
      "text/plain": [
       "(array([  7.,   4.,   3.,   4.,   2.,   6.,   4.,   1.,   7.,   8.,   5.,\n",
       "          4.,   4.,   9.,   4.,   7.,   4.,   5.,   7.,   5.,   4.,   2.,\n",
       "          8.,  16.,   9.,  13.,  19.,  20.,  21.,  34.,  38.,  36.,  52.,\n",
       "         55., 192.,   0., 111., 142., 147., 154., 405.,   0., 237., 296.,\n",
       "        292., 356., 804.,   0., 491., 584., 604., 654., 766., 678., 587.,\n",
       "        548., 857.,   0., 360., 313., 263., 254., 226., 202., 166., 134.,\n",
       "        115.,  98., 163.,  62.,   0.,  72.,  49.,  41.,  29.,  28.,  27.,\n",
       "         18.,  15.,  10.,  16.,  18.,   9.,   0.,   4.,   5.,   5.,   5.,\n",
       "          7.,   4.,   3.,   3.,   2.,   4.,   4.,   0.,   7.,   7.,  22.,\n",
       "        219.]),\n",
       " array([0.  , 0.01, 0.02, 0.03, 0.04, 0.05, 0.06, 0.07, 0.08, 0.09, 0.1 ,\n",
       "        0.11, 0.12, 0.13, 0.14, 0.15, 0.16, 0.17, 0.18, 0.19, 0.2 , 0.21,\n",
       "        0.22, 0.23, 0.24, 0.25, 0.26, 0.27, 0.28, 0.29, 0.3 , 0.31, 0.32,\n",
       "        0.33, 0.34, 0.35, 0.36, 0.37, 0.38, 0.39, 0.4 , 0.41, 0.42, 0.43,\n",
       "        0.44, 0.45, 0.46, 0.47, 0.48, 0.49, 0.5 , 0.51, 0.52, 0.53, 0.54,\n",
       "        0.55, 0.56, 0.57, 0.58, 0.59, 0.6 , 0.61, 0.62, 0.63, 0.64, 0.65,\n",
       "        0.66, 0.67, 0.68, 0.69, 0.7 , 0.71, 0.72, 0.73, 0.74, 0.75, 0.76,\n",
       "        0.77, 0.78, 0.79, 0.8 , 0.81, 0.82, 0.83, 0.84, 0.85, 0.86, 0.87,\n",
       "        0.88, 0.89, 0.9 , 0.91, 0.92, 0.93, 0.94, 0.95, 0.96, 0.97, 0.98,\n",
       "        0.99, 1.  ]),\n",
       " <BarContainer object of 100 artists>)"
      ]
     },
     "execution_count": 44,
     "metadata": {},
     "output_type": "execute_result"
    },
    {
     "data": {
      "image/png": "[encoded data removed]",
      "text/plain": [
       "<Figure size 432x288 with 2 Axes>"
      ]
     },
     "metadata": {
      "needs_background": "light"
     },
     "output_type": "display_data"
    }
   ],
   "source": [
    "bins = 120\n",
    "\n",
    "fig,axs = plt.subplots(1,2)\n",
    "axs[0].hist(RTs,bins=bins)\n",
    "axs[1].hist(Escores,bins=100)"
   ]
  },
  {
   "cell_type": "code",
   "execution_count": 45,
   "id": "86ff6bf6",
   "metadata": {},
   "outputs": [],
   "source": [
    "# fig, axs = plt.subplots(1,1,figsize=(16,16))\n",
    "# for i,pair in enumerate(RT_ranges):\n",
    "#     axs.plot([pair[0],pair[1]],[mzs[i],mzs[i]])\n",
    "#     axs.scatter(RTs[i],mzs[i], s=8)"
   ]
  },
  {
   "cell_type": "code",
   "execution_count": 46,
   "id": "5dfe0c66",
   "metadata": {
    "scrolled": true
   },
   "outputs": [
    {
     "name": "stdout",
     "output_type": "stream",
     "text": [
      "[  3.   4.   5.   6.   7.   8.   9.  10.  11.  12.  13.  14.  15.  16.\n",
      "  17.  18.  19.  20.  21.  22.  23.  24.  25.  26.  27.  28.  29.  30.\n",
      "  31.  32.  33.  34.  35.  36.  37.  38.  39.  40.  41.  42.  43.  44.\n",
      "  45.  46.  47.  48.  49.  50.  51.  52.  53.  54.  55.  56.  57.  58.\n",
      "  59.  60.  61.  62.  63.  64.  65.  66.  67.  68.  69.  70.  71.  72.\n",
      "  73.  74.  75.  76.  77.  78.  79.  80.  81.  82.  83.  84.  85.  86.\n",
      "  87.  88.  89.  90.  91.  92.  93.  94.  95.  96.  97.  98.  99. 100.\n",
      " 101. 102. 103. 104. 105. 106. 107. 108. 109. 110. 111. 112. 113. 114.\n",
      " 115. 116. 117. 118. 119. 120.]\n"
     ]
    }
   ],
   "source": [
    "RT_start = 3\n",
    "RT_end = 120\n",
    "n_bins = RT_end - RT_start + 1\n",
    "peps_min = 1\n",
    "\n",
    "hist,bins = np.histogram(RTs,bins=np.linspace(RT_start,RT_end,n_bins),density=False)\n",
    "print(bins)\n",
    "    \n",
    "bin_members = np.digitize(RTs,bins=np.linspace(RT_start,RT_end,n_bins))\n",
    "unique_members = np.unique(bin_members)\n",
    "idxs_filtered = []\n",
    "for member in unique_members:\n",
    "    repeats = np.where(bin_members == member)[0]\n",
    "    idxs = repeats.copy()\n",
    "    scores_sub = [Escores[v] for v in repeats]\n",
    "    if len(repeats) > peps_min:\n",
    "        scores_sub_sorted = np.sort(scores_sub)   # sort from lowest to highest\n",
    "        while len(scores_sub) > peps_min:\n",
    "            delete = np.where(scores_sub == scores_sub_sorted[0])[0][0]\n",
    "            scores_sub = np.delete(scores_sub,delete)\n",
    "            idxs = np.delete(idxs,delete)\n",
    "            scores_sub_sorted = np.delete(scores_sub_sorted,0)\n",
    "    idxs_filtered.append(idxs)"
   ]
  },
  {
   "cell_type": "code",
   "execution_count": 47,
   "id": "96d88883",
   "metadata": {},
   "outputs": [],
   "source": [
    "idxs_flattened = [val for sublist in idxs_filtered for val in sublist]\n",
    "RTs_filtered = [RTs[i] for i in idxs_flattened]\n",
    "Escores_filtered = [Escores[i] for i in idxs_flattened]\n",
    "mzs_filtered = [mzs[i] for i in idxs_flattened]\n",
    "zs_filtered = [zs[i] for i in idxs_flattened]\n",
    "ps_filtered = [ps[i] for i in idxs_flattened]\n",
    "t_starts = [RT - 10 for RT in RTs_filtered]\n",
    "t_ends = [RT + 10 for RT in RTs_filtered]"
   ]
  },
  {
   "cell_type": "code",
   "execution_count": 48,
   "id": "2761b2ef",
   "metadata": {},
   "outputs": [
    {
     "data": {
      "text/plain": [
       "(array([2., 0., 1., 1., 1., 1., 1., 1., 1., 1., 1., 1., 1., 1., 0., 2., 0.,\n",
       "        1., 1., 1., 1., 2., 1., 0., 1., 0., 2., 1., 0., 2., 1., 1., 1., 0.,\n",
       "        1., 1., 1., 1., 1., 1., 1., 1., 1., 1., 1., 0., 2., 1., 0., 1., 2.,\n",
       "        1., 1., 0., 1., 1., 2., 1., 0., 1., 1., 1., 1., 0., 2., 1., 0., 2.,\n",
       "        1., 0., 1., 1., 2., 1., 0., 1., 2., 1., 1., 1., 0., 1., 1., 1., 1.,\n",
       "        1., 1., 1., 1., 0., 1., 1., 1., 2., 0., 1., 1., 1., 1., 1., 1., 1.,\n",
       "        1., 1., 1., 1., 1., 1., 1., 1., 0., 1., 2., 0., 1., 1., 1., 1., 1.,\n",
       "        2.]),\n",
       " array([  5.36573333,   6.31284875,   7.25996417,   8.20707958,\n",
       "          9.154195  ,  10.10131042,  11.04842583,  11.99554125,\n",
       "         12.94265667,  13.88977208,  14.8368875 ,  15.78400292,\n",
       "         16.73111833,  17.67823375,  18.62534917,  19.57246458,\n",
       "         20.51958   ,  21.46669542,  22.41381083,  23.36092625,\n",
       "         24.30804167,  25.25515708,  26.2022725 ,  27.14938792,\n",
       "         28.09650333,  29.04361875,  29.99073417,  30.93784958,\n",
       "         31.884965  ,  32.83208042,  33.77919583,  34.72631125,\n",
       "         35.67342667,  36.62054208,  37.5676575 ,  38.51477292,\n",
       "         39.46188833,  40.40900375,  41.35611917,  42.30323458,\n",
       "         43.25035   ,  44.19746542,  45.14458083,  46.09169625,\n",
       "         47.03881167,  47.98592708,  48.9330425 ,  49.88015792,\n",
       "         50.82727333,  51.77438875,  52.72150417,  53.66861958,\n",
       "         54.615735  ,  55.56285042,  56.50996583,  57.45708125,\n",
       "         58.40419667,  59.35131208,  60.2984275 ,  61.24554292,\n",
       "         62.19265833,  63.13977375,  64.08688917,  65.03400458,\n",
       "         65.98112   ,  66.92823542,  67.87535083,  68.82246625,\n",
       "         69.76958167,  70.71669708,  71.6638125 ,  72.61092792,\n",
       "         73.55804333,  74.50515875,  75.45227417,  76.39938958,\n",
       "         77.346505  ,  78.29362042,  79.24073583,  80.18785125,\n",
       "         81.13496667,  82.08208208,  83.0291975 ,  83.97631292,\n",
       "         84.92342833,  85.87054375,  86.81765917,  87.76477458,\n",
       "         88.71189   ,  89.65900542,  90.60612083,  91.55323625,\n",
       "         92.50035167,  93.44746708,  94.3945825 ,  95.34169792,\n",
       "         96.28881333,  97.23592875,  98.18304417,  99.13015958,\n",
       "        100.077275  , 101.02439042, 101.97150583, 102.91862125,\n",
       "        103.86573667, 104.81285208, 105.7599675 , 106.70708292,\n",
       "        107.65419833, 108.60131375, 109.54842917, 110.49554458,\n",
       "        111.44266   , 112.38977542, 113.33689083, 114.28400625,\n",
       "        115.23112167, 116.17823708, 117.1253525 , 118.07246792,\n",
       "        119.01958333]),\n",
       " <BarContainer object of 120 artists>)"
      ]
     },
     "execution_count": 48,
     "metadata": {},
     "output_type": "execute_result"
    },
    {
     "data": {
      "image/png": "[encoded data removed]",
      "text/plain": [
       "<Figure size 432x288 with 1 Axes>"
      ]
     },
     "metadata": {
      "needs_background": "light"
     },
     "output_type": "display_data"
    }
   ],
   "source": [
    "plt.hist(RTs_filtered,bins=120)"
   ]
  },
  {
   "cell_type": "code",
   "execution_count": 49,
   "id": "f84f0bcc",
   "metadata": {},
   "outputs": [
    {
     "data": {
      "image/png": "[encoded data removed]",
      "text/plain": [
       "<Figure size 1152x1152 with 1 Axes>"
      ]
     },
     "metadata": {
      "needs_background": "light"
     },
     "output_type": "display_data"
    }
   ],
   "source": [
    "fig, axs = plt.subplots(1,1,figsize=(16,16))\n",
    "RT_ranges_filtered = [(max(3,RT - 10),min(RT+10,120)) for RT in RTs_filtered]   # method is 120 mins, MS on at 3 mins\n",
    "for i,pair in enumerate(RT_ranges_filtered):\n",
    "    axs.plot([pair[0],pair[1]],[mzs_filtered[i],mzs_filtered[i]])\n",
    "    axs.scatter(RTs_filtered[i],mzs_filtered[i], s=12)\n",
    "    axs.grid()"
   ]
  },
  {
   "cell_type": "code",
   "execution_count": 53,
   "id": "6d6e9159",
   "metadata": {},
   "outputs": [
    {
     "data": {
      "text/plain": [
       "(array([ 1.,  0.,  3.,  0.,  0.,  1.,  0.,  0.,  1.,  0.,  3.,  0.,  0.,\n",
       "         2.,  0.,  0.,  3.,  0.,  0.,  0.,  0.,  3.,  0.,  0.,  4.,  0.,\n",
       "         0.,  1.,  0.,  1.,  0.,  0.,  0.,  0.,  0.,  1.,  0.,  0.,  0.,\n",
       "         0.,  3.,  0.,  0.,  1.,  0.,  2.,  0.,  0.,  2.,  0.,  0.,  0.,\n",
       "         0.,  0.,  0.,  0.,  1.,  0.,  0.,  1.,  0.,  0.,  0.,  0.,  0.,\n",
       "         0.,  0.,  0.,  0.,  0.,  0.,  0.,  0.,  0.,  0.,  1.,  0.,  0.,\n",
       "         0.,  0.,  0.,  1.,  0.,  0.,  0.,  0.,  0.,  0.,  0.,  0.,  0.,\n",
       "         2.,  0.,  0.,  5.,  0.,  0.,  3.,  0., 69.]),\n",
       " array([0.63  , 0.6337, 0.6374, 0.6411, 0.6448, 0.6485, 0.6522, 0.6559,\n",
       "        0.6596, 0.6633, 0.667 , 0.6707, 0.6744, 0.6781, 0.6818, 0.6855,\n",
       "        0.6892, 0.6929, 0.6966, 0.7003, 0.704 , 0.7077, 0.7114, 0.7151,\n",
       "        0.7188, 0.7225, 0.7262, 0.7299, 0.7336, 0.7373, 0.741 , 0.7447,\n",
       "        0.7484, 0.7521, 0.7558, 0.7595, 0.7632, 0.7669, 0.7706, 0.7743,\n",
       "        0.778 , 0.7817, 0.7854, 0.7891, 0.7928, 0.7965, 0.8002, 0.8039,\n",
       "        0.8076, 0.8113, 0.815 , 0.8187, 0.8224, 0.8261, 0.8298, 0.8335,\n",
       "        0.8372, 0.8409, 0.8446, 0.8483, 0.852 , 0.8557, 0.8594, 0.8631,\n",
       "        0.8668, 0.8705, 0.8742, 0.8779, 0.8816, 0.8853, 0.889 , 0.8927,\n",
       "        0.8964, 0.9001, 0.9038, 0.9075, 0.9112, 0.9149, 0.9186, 0.9223,\n",
       "        0.926 , 0.9297, 0.9334, 0.9371, 0.9408, 0.9445, 0.9482, 0.9519,\n",
       "        0.9556, 0.9593, 0.963 , 0.9667, 0.9704, 0.9741, 0.9778, 0.9815,\n",
       "        0.9852, 0.9889, 0.9926, 0.9963, 1.    ]),\n",
       " <BarContainer object of 100 artists>)"
      ]
     },
     "execution_count": 53,
     "metadata": {},
     "output_type": "execute_result"
    },
    {
     "data": {
      "image/png": "[encoded data removed]",
      "text/plain": [
       "<Figure size 864x864 with 2 Axes>"
      ]
     },
     "metadata": {
      "needs_background": "light"
     },
     "output_type": "display_data"
    }
   ],
   "source": [
    "bins = 120\n",
    "\n",
    "fig,axs = plt.subplots(1,2,figsize=(12,12))\n",
    "axs[0].hist(RTs_filtered,bins=bins)\n",
    "axs[1].hist(Escores_filtered,bins=100)"
   ]
  },
  {
   "cell_type": "code",
   "execution_count": 50,
   "id": "192d6aa9",
   "metadata": {},
   "outputs": [
    {
     "name": "stdout",
     "output_type": "stream",
     "text": [
      "12321 115\n"
     ]
    }
   ],
   "source": [
    "print(len(RTs),len(RTs_filtered))"
   ]
  },
  {
   "cell_type": "code",
   "execution_count": 51,
   "id": "a62b07b1",
   "metadata": {},
   "outputs": [],
   "source": [
    "df = pd.DataFrame(columns=('Compound', 'Formula','Adduct','m/z','z','t start (min)','t stop (min)'))\n",
    "for j in range(len(Escores_filtered)):\n",
    "    A = 'EScore: ' + str(np.round(Escores_filtered[j],2)) + ' p value: ' + \"{:.3e}\".format(ps_filtered[j]) + ' RTime: ' + str(np.round(RTs_filtered[j],3))\n",
    "    B = None\n",
    "    C = '(no adduct)'\n",
    "    D = np.round(mzs_filtered[j],4)\n",
    "    E = int(zs_filtered[j])\n",
    "    F = max(0,int(RTs_filtered[j] - 10))\n",
    "    G = min(int(RTs_filtered[j] + 10),120)\n",
    "    df.loc[j] = [A,B,C,D,E,F,G]\n",
    "df.to_csv(os.path.join(SAVE_PATH,name + '.csv'),index=False)"
   ]
  },
  {
   "cell_type": "code",
   "execution_count": null,
   "id": "7f0e5155",
   "metadata": {},
   "outputs": [],
   "source": []
  }
 ],
 "metadata": {
  "kernelspec": {
   "display_name": "Python 3",
   "language": "python",
   "name": "python3"
  },
  "language_info": {
   "codemirror_mode": {
    "name": "ipython",
    "version": 3
   },
   "file_extension": ".py",
   "mimetype": "text/x-python",
   "name": "python",
   "nbconvert_exporter": "python",
   "pygments_lexer": "ipython3",
   "version": "3.8.8"
  }
 },
 "nbformat": 4,
 "nbformat_minor": 5
}

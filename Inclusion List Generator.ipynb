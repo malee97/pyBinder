{
 "cells": [
  {
   "cell_type": "code",
   "execution_count": 1,
   "id": "003b4bb5",
   "metadata": {},
   "outputs": [],
   "source": [
    "import os, csv\n",
    "import numpy as np\n",
    "import matplotlib.pyplot as plt\n",
    "%matplotlib inline\n",
    "import pandas as pd"
   ]
  },
  {
   "cell_type": "code",
   "execution_count": 2,
   "id": "fbd7e00c",
   "metadata": {},
   "outputs": [],
   "source": [
    "SAVE_PATH = r\"E:\\Sequence_Analysis\\20221004 - 284-188 pyBinder 12ca5 vs MDM2\\284-188_pyBinder_12ca5_vs_MDM2_Aliq6_2022_10_03-06_05_59_PM\"\n",
    "FILE = os.path.join(SAVE_PATH,'12ca5.csv')\n",
    "name = '12ca5 Aliquot 6 pyBinder Inclusion List'"
   ]
  },
  {
   "cell_type": "code",
   "execution_count": 3,
   "id": "d9c66a72",
   "metadata": {},
   "outputs": [],
   "source": [
    "data = []\n",
    "with open(FILE, 'r') as file:\n",
    "    csv_reader = csv.DictReader(file,delimiter=',')\n",
    "    for row in csv_reader:\n",
    "        data.append(row)"
   ]
  },
  {
   "cell_type": "code",
   "execution_count": 4,
   "id": "d6244ba8",
   "metadata": {},
   "outputs": [],
   "source": [
    "RTs = []\n",
    "Escores = []\n",
    "mzs = []\n",
    "ps = []\n",
    "zs = []\n",
    "specs = []\n",
    "for line in data:\n",
    "    idx = line['Compound'].find('RTime:')\n",
    "    Escores.append(float(line['Compound'][8:idx-1]))\n",
    "    RTs.append(float(line['Compound'][idx+7:])/60)   # convert to mins\n",
    "    mzs.append(float(line['m/z']))\n",
    "    zs.append(float(line['z']))\n",
    "    ps.append(float(line['p value']))\n",
    "    specs.append(line['specificity'])\n",
    "    \n",
    "RT_ranges = [(max(3,RT - 10),min(RT+10,120)) for RT in RTs]   # method is 120 mins, MS on at 3 mins\n",
    "\n",
    "### if using \"inclusion list\" file\n",
    "\n",
    "# for line in data:\n",
    "#     idx = line['Compound'].find('RTime:')\n",
    "#     idx_e = line['Compound'].find('p value')\n",
    "#     Escores.append(float(line['Compound'][8:idx_e-1]))\n",
    "#     RTs.append(float(line['Compound'][idx+7:])/60)   # convert to mins\n",
    "#     mzs.append(float(line['m/z']))\n",
    "#     zs.append(float(line['z']))\n",
    "#     ps.append(float(line['Compound'][idx_e+9:idx-1]))\n",
    "    \n",
    "# RT_ranges = [(max(3,RT - 10),min(RT+10,120)) for RT in RTs]   # method is 120 mins, MS on at 3 mins"
   ]
  },
  {
   "cell_type": "code",
   "execution_count": 5,
   "id": "b3bf1794",
   "metadata": {},
   "outputs": [
    {
     "data": {
      "text/html": [
       "<div>\n",
       "<style scoped>\n",
       "    .dataframe tbody tr th:only-of-type {\n",
       "        vertical-align: middle;\n",
       "    }\n",
       "\n",
       "    .dataframe tbody tr th {\n",
       "        vertical-align: top;\n",
       "    }\n",
       "\n",
       "    .dataframe thead th {\n",
       "        text-align: right;\n",
       "    }\n",
       "</style>\n",
       "<table border=\"1\" class=\"dataframe\">\n",
       "  <thead>\n",
       "    <tr style=\"text-align: right;\">\n",
       "      <th></th>\n",
       "      <th>Escore</th>\n",
       "      <th>RT</th>\n",
       "      <th>mz</th>\n",
       "      <th>z</th>\n",
       "      <th>p</th>\n",
       "      <th>spec</th>\n",
       "    </tr>\n",
       "  </thead>\n",
       "  <tbody>\n",
       "    <tr>\n",
       "      <th>0</th>\n",
       "      <td>1.0</td>\n",
       "      <td>20.7131</td>\n",
       "      <td>482.5552</td>\n",
       "      <td>3.0</td>\n",
       "      <td>0.030306</td>\n",
       "      <td>12ca5</td>\n",
       "    </tr>\n",
       "    <tr>\n",
       "      <th>1</th>\n",
       "      <td>1.0</td>\n",
       "      <td>21.6923</td>\n",
       "      <td>482.5553</td>\n",
       "      <td>3.0</td>\n",
       "      <td>0.030306</td>\n",
       "      <td>12ca5</td>\n",
       "    </tr>\n",
       "    <tr>\n",
       "      <th>2</th>\n",
       "      <td>1.0</td>\n",
       "      <td>21.006</td>\n",
       "      <td>482.5553</td>\n",
       "      <td>3.0</td>\n",
       "      <td>0.030306</td>\n",
       "      <td>12ca5</td>\n",
       "    </tr>\n",
       "    <tr>\n",
       "      <th>3</th>\n",
       "      <td>1.0</td>\n",
       "      <td>21.415517</td>\n",
       "      <td>482.5554</td>\n",
       "      <td>3.0</td>\n",
       "      <td>0.030306</td>\n",
       "      <td>12ca5</td>\n",
       "    </tr>\n",
       "    <tr>\n",
       "      <th>4</th>\n",
       "      <td>1.0</td>\n",
       "      <td>22.6727</td>\n",
       "      <td>482.5556</td>\n",
       "      <td>3.0</td>\n",
       "      <td>0.030306</td>\n",
       "      <td>12ca5</td>\n",
       "    </tr>\n",
       "    <tr>\n",
       "      <th>...</th>\n",
       "      <td>...</td>\n",
       "      <td>...</td>\n",
       "      <td>...</td>\n",
       "      <td>...</td>\n",
       "      <td>...</td>\n",
       "      <td>...</td>\n",
       "    </tr>\n",
       "    <tr>\n",
       "      <th>2933</th>\n",
       "      <td>0.55</td>\n",
       "      <td>40.83885</td>\n",
       "      <td>801.4093</td>\n",
       "      <td>2.0</td>\n",
       "      <td>0.008176</td>\n",
       "      <td>12ca5</td>\n",
       "    </tr>\n",
       "    <tr>\n",
       "      <th>2934</th>\n",
       "      <td>0.55</td>\n",
       "      <td>31.25535</td>\n",
       "      <td>483.26</td>\n",
       "      <td>4.0</td>\n",
       "      <td>0.030685</td>\n",
       "      <td>12ca5</td>\n",
       "    </tr>\n",
       "    <tr>\n",
       "      <th>2935</th>\n",
       "      <td>0.55</td>\n",
       "      <td>62.412317</td>\n",
       "      <td>445.2407</td>\n",
       "      <td>2.0</td>\n",
       "      <td>0.016376</td>\n",
       "      <td>12ca5</td>\n",
       "    </tr>\n",
       "    <tr>\n",
       "      <th>2936</th>\n",
       "      <td>0.54</td>\n",
       "      <td>53.013683</td>\n",
       "      <td>680.3717</td>\n",
       "      <td>2.0</td>\n",
       "      <td>0.077492</td>\n",
       "      <td>12ca5</td>\n",
       "    </tr>\n",
       "    <tr>\n",
       "      <th>2937</th>\n",
       "      <td>0.54</td>\n",
       "      <td>118.1051</td>\n",
       "      <td>688.8914</td>\n",
       "      <td>2.0</td>\n",
       "      <td>0.051741</td>\n",
       "      <td>12ca5</td>\n",
       "    </tr>\n",
       "  </tbody>\n",
       "</table>\n",
       "<p>2938 rows × 6 columns</p>\n",
       "</div>"
      ],
      "text/plain": [
       "     Escore         RT        mz    z         p   spec\n",
       "0       1.0    20.7131  482.5552  3.0  0.030306  12ca5\n",
       "1       1.0    21.6923  482.5553  3.0  0.030306  12ca5\n",
       "2       1.0     21.006  482.5553  3.0  0.030306  12ca5\n",
       "3       1.0  21.415517  482.5554  3.0  0.030306  12ca5\n",
       "4       1.0    22.6727  482.5556  3.0  0.030306  12ca5\n",
       "...     ...        ...       ...  ...       ...    ...\n",
       "2933   0.55   40.83885  801.4093  2.0  0.008176  12ca5\n",
       "2934   0.55   31.25535    483.26  4.0  0.030685  12ca5\n",
       "2935   0.55  62.412317  445.2407  2.0  0.016376  12ca5\n",
       "2936   0.54  53.013683  680.3717  2.0  0.077492  12ca5\n",
       "2937   0.54   118.1051  688.8914  2.0  0.051741  12ca5\n",
       "\n",
       "[2938 rows x 6 columns]"
      ]
     },
     "execution_count": 5,
     "metadata": {},
     "output_type": "execute_result"
    }
   ],
   "source": [
    "dataframe = pd.DataFrame([Escores,RTs,mzs,zs,ps,specs]).transpose()\n",
    "dataframe.columns = ['Escore','RT','mz','z','p','spec']\n",
    "dataframe"
   ]
  },
  {
   "cell_type": "code",
   "execution_count": 6,
   "id": "8060851b",
   "metadata": {},
   "outputs": [
    {
     "data": {
      "text/plain": [
       "(array([  2.,   0.,   8.,   0.,  14.,   0.,  14.,   0.,  19.,   0.,  34.,\n",
       "          0.,   0.,  28.,   0.,  40.,   0.,  42.,   0.,  70.,   0.,  56.,\n",
       "          0.,  69.,   0.,   0.,  79.,   0.,  85.,   0.,  85.,   0.,  97.,\n",
       "          0.,  94.,   0., 100.,   0.,   0., 100.,   0.,  97.,   0., 111.,\n",
       "          0., 102.,   0., 101.,   0.,   0.,  96.,   0.,  93.,   0.,  96.,\n",
       "          0.,  80.,   0.,  79.,   0.,  74.,   0.,   0.,  51.,   0.,  49.,\n",
       "          0.,  45.,   0.,  42.,   0.,  37.,   0.,  25.,   0.,   0.,  28.,\n",
       "          0.,  26.,   0.,  16.,   0.,  26.,   0.,  30.,   0.,  15.,   0.,\n",
       "          0.,  24.,   0.,  23.,   0.,  27.,   0.,  39.,   0.,  97.,   0.,\n",
       "        373.]),\n",
       " array([0.54  , 0.5446, 0.5492, 0.5538, 0.5584, 0.563 , 0.5676, 0.5722,\n",
       "        0.5768, 0.5814, 0.586 , 0.5906, 0.5952, 0.5998, 0.6044, 0.609 ,\n",
       "        0.6136, 0.6182, 0.6228, 0.6274, 0.632 , 0.6366, 0.6412, 0.6458,\n",
       "        0.6504, 0.655 , 0.6596, 0.6642, 0.6688, 0.6734, 0.678 , 0.6826,\n",
       "        0.6872, 0.6918, 0.6964, 0.701 , 0.7056, 0.7102, 0.7148, 0.7194,\n",
       "        0.724 , 0.7286, 0.7332, 0.7378, 0.7424, 0.747 , 0.7516, 0.7562,\n",
       "        0.7608, 0.7654, 0.77  , 0.7746, 0.7792, 0.7838, 0.7884, 0.793 ,\n",
       "        0.7976, 0.8022, 0.8068, 0.8114, 0.816 , 0.8206, 0.8252, 0.8298,\n",
       "        0.8344, 0.839 , 0.8436, 0.8482, 0.8528, 0.8574, 0.862 , 0.8666,\n",
       "        0.8712, 0.8758, 0.8804, 0.885 , 0.8896, 0.8942, 0.8988, 0.9034,\n",
       "        0.908 , 0.9126, 0.9172, 0.9218, 0.9264, 0.931 , 0.9356, 0.9402,\n",
       "        0.9448, 0.9494, 0.954 , 0.9586, 0.9632, 0.9678, 0.9724, 0.977 ,\n",
       "        0.9816, 0.9862, 0.9908, 0.9954, 1.    ]),\n",
       " <BarContainer object of 100 artists>)"
      ]
     },
     "execution_count": 6,
     "metadata": {},
     "output_type": "execute_result"
    },
    {
     "data": {
      "image/png": "[encoded data removed]",
      "text/plain": [
       "<Figure size 432x288 with 2 Axes>"
      ]
     },
     "metadata": {
      "needs_background": "light"
     },
     "output_type": "display_data"
    }
   ],
   "source": [
    "bins = 120\n",
    "\n",
    "fig,axs = plt.subplots(1,2)\n",
    "axs[0].hist(RTs,bins=bins)\n",
    "axs[1].hist(Escores,bins=100)"
   ]
  },
  {
   "cell_type": "code",
   "execution_count": 7,
   "id": "86ff6bf6",
   "metadata": {},
   "outputs": [],
   "source": [
    "# fig, axs = plt.subplots(1,1,figsize=(16,16))\n",
    "# for i,pair in enumerate(RT_ranges):\n",
    "#     axs.plot([pair[0],pair[1]],[mzs[i],mzs[i]])\n",
    "#     axs.scatter(RTs[i],mzs[i], s=8)"
   ]
  },
  {
   "cell_type": "code",
   "execution_count": 8,
   "id": "5dfe0c66",
   "metadata": {
    "scrolled": true
   },
   "outputs": [
    {
     "name": "stdout",
     "output_type": "stream",
     "text": [
      "[  3.   4.   5.   6.   7.   8.   9.  10.  11.  12.  13.  14.  15.  16.\n",
      "  17.  18.  19.  20.  21.  22.  23.  24.  25.  26.  27.  28.  29.  30.\n",
      "  31.  32.  33.  34.  35.  36.  37.  38.  39.  40.  41.  42.  43.  44.\n",
      "  45.  46.  47.  48.  49.  50.  51.  52.  53.  54.  55.  56.  57.  58.\n",
      "  59.  60.  61.  62.  63.  64.  65.  66.  67.  68.  69.  70.  71.  72.\n",
      "  73.  74.  75.  76.  77.  78.  79.  80.  81.  82.  83.  84.  85.  86.\n",
      "  87.  88.  89.  90.  91.  92.  93.  94.  95.  96.  97.  98.  99. 100.\n",
      " 101. 102. 103. 104. 105. 106. 107. 108. 109. 110. 111. 112. 113. 114.\n",
      " 115. 116. 117. 118. 119. 120.]\n"
     ]
    }
   ],
   "source": [
    "RT_start = 3\n",
    "RT_end = 120\n",
    "n_bins = RT_end - RT_start + 1\n",
    "peps_min = 1\n",
    "\n",
    "hist,bins = np.histogram(RTs,bins=np.linspace(RT_start,RT_end,n_bins),density=False)\n",
    "print(bins)\n",
    "    \n",
    "bin_members = np.digitize(RTs,bins=np.linspace(RT_start,RT_end,n_bins))\n",
    "unique_members = np.unique(bin_members)\n",
    "idxs_filtered = []\n",
    "for member in unique_members:\n",
    "    repeats = np.where(bin_members == member)[0]\n",
    "    idxs = repeats.copy()\n",
    "    scores_sub = [Escores[v] for v in repeats]\n",
    "    if len(repeats) > peps_min:\n",
    "        scores_sub_sorted = np.sort(scores_sub)   # sort from lowest to highest\n",
    "        while len(scores_sub) > peps_min:\n",
    "            delete = np.where(scores_sub == scores_sub_sorted[0])[0][0]\n",
    "            scores_sub = np.delete(scores_sub,delete)\n",
    "            idxs = np.delete(idxs,delete)\n",
    "            scores_sub_sorted = np.delete(scores_sub_sorted,0)\n",
    "    idxs_filtered.append(idxs)"
   ]
  },
  {
   "cell_type": "code",
   "execution_count": 9,
   "id": "96d88883",
   "metadata": {},
   "outputs": [],
   "source": [
    "idxs_flattened = [val for sublist in idxs_filtered for val in sublist]\n",
    "RTs_filtered = [RTs[i] for i in idxs_flattened]\n",
    "Escores_filtered = [Escores[i] for i in idxs_flattened]\n",
    "mzs_filtered = [mzs[i] for i in idxs_flattened]\n",
    "zs_filtered = [zs[i] for i in idxs_flattened]\n",
    "ps_filtered = [ps[i] for i in idxs_flattened]\n",
    "t_starts = [RT - 10 for RT in RTs_filtered]\n",
    "t_ends = [RT + 10 for RT in RTs_filtered]"
   ]
  },
  {
   "cell_type": "code",
   "execution_count": 10,
   "id": "2761b2ef",
   "metadata": {},
   "outputs": [
    {
     "data": {
      "text/plain": [
       "(array([2., 1., 0., 2., 0., 2., 0., 1., 1., 1., 2., 0., 1., 1., 1., 0., 2.,\n",
       "        0., 1., 1., 1., 2., 0., 1., 1., 1., 1., 1., 1., 1., 1., 1., 1., 1.,\n",
       "        0., 2., 0., 2., 0., 2., 1., 0., 1., 1., 1., 1., 1., 0., 1., 2., 1.,\n",
       "        1., 0., 1., 1., 1., 1., 1., 1., 1., 1., 1., 0., 1., 2., 0., 1., 2.,\n",
       "        1., 0., 1., 1., 1., 1., 1., 1., 0., 2., 1., 0., 1., 2., 1., 1., 1.,\n",
       "        0., 1., 1., 1., 1., 1., 1., 1., 1., 1., 0., 1., 1., 1., 1., 1., 1.,\n",
       "        1., 1., 1., 1., 1., 1., 1., 1., 1., 1., 1., 1., 0., 1., 2., 0., 1.,\n",
       "        2.]),\n",
       " array([  7.88691667,   8.82160944,   9.75630222,  10.690995  ,\n",
       "         11.62568778,  12.56038056,  13.49507333,  14.42976611,\n",
       "         15.36445889,  16.29915167,  17.23384444,  18.16853722,\n",
       "         19.10323   ,  20.03792278,  20.97261556,  21.90730833,\n",
       "         22.84200111,  23.77669389,  24.71138667,  25.64607944,\n",
       "         26.58077222,  27.515465  ,  28.45015778,  29.38485056,\n",
       "         30.31954333,  31.25423611,  32.18892889,  33.12362167,\n",
       "         34.05831444,  34.99300722,  35.9277    ,  36.86239278,\n",
       "         37.79708556,  38.73177833,  39.66647111,  40.60116389,\n",
       "         41.53585667,  42.47054944,  43.40524222,  44.339935  ,\n",
       "         45.27462778,  46.20932056,  47.14401333,  48.07870611,\n",
       "         49.01339889,  49.94809167,  50.88278444,  51.81747722,\n",
       "         52.75217   ,  53.68686278,  54.62155556,  55.55624833,\n",
       "         56.49094111,  57.42563389,  58.36032667,  59.29501944,\n",
       "         60.22971222,  61.164405  ,  62.09909778,  63.03379056,\n",
       "         63.96848333,  64.90317611,  65.83786889,  66.77256167,\n",
       "         67.70725444,  68.64194722,  69.57664   ,  70.51133278,\n",
       "         71.44602556,  72.38071833,  73.31541111,  74.25010389,\n",
       "         75.18479667,  76.11948944,  77.05418222,  77.988875  ,\n",
       "         78.92356778,  79.85826056,  80.79295333,  81.72764611,\n",
       "         82.66233889,  83.59703167,  84.53172444,  85.46641722,\n",
       "         86.40111   ,  87.33580278,  88.27049556,  89.20518833,\n",
       "         90.13988111,  91.07457389,  92.00926667,  92.94395944,\n",
       "         93.87865222,  94.813345  ,  95.74803778,  96.68273056,\n",
       "         97.61742333,  98.55211611,  99.48680889, 100.42150167,\n",
       "        101.35619444, 102.29088722, 103.22558   , 104.16027278,\n",
       "        105.09496556, 106.02965833, 106.96435111, 107.89904389,\n",
       "        108.83373667, 109.76842944, 110.70312222, 111.637815  ,\n",
       "        112.57250778, 113.50720056, 114.44189333, 115.37658611,\n",
       "        116.31127889, 117.24597167, 118.18066444, 119.11535722,\n",
       "        120.05005   ]),\n",
       " <BarContainer object of 120 artists>)"
      ]
     },
     "execution_count": 10,
     "metadata": {},
     "output_type": "execute_result"
    },
    {
     "data": {
      "image/png": "[encoded data removed]",
      "text/plain": [
       "<Figure size 432x288 with 1 Axes>"
      ]
     },
     "metadata": {
      "needs_background": "light"
     },
     "output_type": "display_data"
    }
   ],
   "source": [
    "plt.hist(RTs_filtered,bins=120)"
   ]
  },
  {
   "cell_type": "code",
   "execution_count": 11,
   "id": "f84f0bcc",
   "metadata": {},
   "outputs": [
    {
     "data": {
      "image/png": "[encoded data removed]",
      "text/plain": [
       "<Figure size 1152x1152 with 1 Axes>"
      ]
     },
     "metadata": {
      "needs_background": "light"
     },
     "output_type": "display_data"
    }
   ],
   "source": [
    "fig, axs = plt.subplots(1,1,figsize=(16,16))\n",
    "RT_ranges_filtered = [(max(3,RT - 10),min(RT+10,120)) for RT in RTs_filtered]   # method is 120 mins, MS on at 3 mins\n",
    "for i,pair in enumerate(RT_ranges_filtered):\n",
    "    axs.plot([pair[0],pair[1]],[mzs_filtered[i],mzs_filtered[i]])\n",
    "    axs.scatter(RTs_filtered[i],mzs_filtered[i], s=12)\n",
    "    axs.grid()"
   ]
  },
  {
   "cell_type": "code",
   "execution_count": 12,
   "id": "6d6e9159",
   "metadata": {},
   "outputs": [
    {
     "data": {
      "text/plain": [
       "(array([ 1.,  0.,  0.,  0.,  0.,  2.,  0.,  0.,  0.,  0.,  0.,  0.,  0.,\n",
       "         2.,  0.,  0.,  1.,  0.,  1.,  0.,  0.,  0.,  0.,  0.,  1.,  0.,\n",
       "         0.,  0.,  0.,  3.,  0.,  0.,  0.,  0.,  0.,  2.,  0.,  0.,  0.,\n",
       "         0.,  0.,  0.,  0.,  2.,  0.,  2.,  0.,  0.,  5.,  0.,  0.,  1.,\n",
       "         0.,  0.,  3.,  0.,  1.,  0.,  0.,  1.,  0.,  0.,  5.,  0.,  3.,\n",
       "         0.,  0.,  1.,  0.,  0.,  3.,  0.,  3.,  0.,  0.,  1.,  0.,  0.,\n",
       "         4.,  0.,  0.,  8.,  0.,  2.,  0.,  0.,  6.,  0.,  0.,  4.,  0.,\n",
       "         4.,  0.,  0.,  6.,  0.,  0.,  7.,  0., 29.]),\n",
       " array([0.63  , 0.6337, 0.6374, 0.6411, 0.6448, 0.6485, 0.6522, 0.6559,\n",
       "        0.6596, 0.6633, 0.667 , 0.6707, 0.6744, 0.6781, 0.6818, 0.6855,\n",
       "        0.6892, 0.6929, 0.6966, 0.7003, 0.704 , 0.7077, 0.7114, 0.7151,\n",
       "        0.7188, 0.7225, 0.7262, 0.7299, 0.7336, 0.7373, 0.741 , 0.7447,\n",
       "        0.7484, 0.7521, 0.7558, 0.7595, 0.7632, 0.7669, 0.7706, 0.7743,\n",
       "        0.778 , 0.7817, 0.7854, 0.7891, 0.7928, 0.7965, 0.8002, 0.8039,\n",
       "        0.8076, 0.8113, 0.815 , 0.8187, 0.8224, 0.8261, 0.8298, 0.8335,\n",
       "        0.8372, 0.8409, 0.8446, 0.8483, 0.852 , 0.8557, 0.8594, 0.8631,\n",
       "        0.8668, 0.8705, 0.8742, 0.8779, 0.8816, 0.8853, 0.889 , 0.8927,\n",
       "        0.8964, 0.9001, 0.9038, 0.9075, 0.9112, 0.9149, 0.9186, 0.9223,\n",
       "        0.926 , 0.9297, 0.9334, 0.9371, 0.9408, 0.9445, 0.9482, 0.9519,\n",
       "        0.9556, 0.9593, 0.963 , 0.9667, 0.9704, 0.9741, 0.9778, 0.9815,\n",
       "        0.9852, 0.9889, 0.9926, 0.9963, 1.    ]),\n",
       " <BarContainer object of 100 artists>)"
      ]
     },
     "execution_count": 12,
     "metadata": {},
     "output_type": "execute_result"
    },
    {
     "data": {
      "image/png": "[encoded data removed]",
      "text/plain": [
       "<Figure size 864x864 with 2 Axes>"
      ]
     },
     "metadata": {
      "needs_background": "light"
     },
     "output_type": "display_data"
    }
   ],
   "source": [
    "bins = 120\n",
    "\n",
    "fig,axs = plt.subplots(1,2,figsize=(12,12))\n",
    "axs[0].hist(RTs_filtered,bins=bins)\n",
    "axs[1].hist(Escores_filtered,bins=100)"
   ]
  },
  {
   "cell_type": "code",
   "execution_count": 13,
   "id": "192d6aa9",
   "metadata": {},
   "outputs": [
    {
     "name": "stdout",
     "output_type": "stream",
     "text": [
      "2938 114\n"
     ]
    }
   ],
   "source": [
    "print(len(RTs),len(RTs_filtered))"
   ]
  },
  {
   "cell_type": "code",
   "execution_count": 14,
   "id": "a62b07b1",
   "metadata": {},
   "outputs": [],
   "source": [
    "df = pd.DataFrame(columns=('Compound', 'Formula','Adduct','m/z','z','t start (min)','t stop (min)'))\n",
    "for j,score in enumerate(Escores_filtered):\n",
    "    A = 'EScore: ' + str(np.round(score,2)) + ' p value: ' + \"{:.3e}\".format(ps_filtered[j]) + ' RTime: ' + str(np.round(RTs_filtered[j],3))\n",
    "    B = None\n",
    "    C = '(no adduct)'\n",
    "    D = np.round(mzs_filtered[j],4)\n",
    "    E = int(zs_filtered[j])\n",
    "    F = max(0,int(RTs_filtered[j] - 10))\n",
    "    G = min(int(RTs_filtered[j] + 10),120)\n",
    "    df.loc[j] = [A,B,C,D,E,F,G]\n",
    "df.to_csv(os.path.join(SAVE_PATH,name + '.csv'),index=False)"
   ]
  },
  {
   "cell_type": "markdown",
   "id": "1618123d",
   "metadata": {},
   "source": [
    "## No Filtering"
   ]
  },
  {
   "cell_type": "code",
   "execution_count": 15,
   "id": "a778df03",
   "metadata": {},
   "outputs": [],
   "source": [
    "df = pd.DataFrame(columns=('Compound', 'Formula','Adduct','m/z','z','t start (min)','t stop (min)'))\n",
    "for j,score in enumerate(Escores):\n",
    "    A = 'EScore: ' + str(np.round(score,2)) + ' p value: ' + \"{:.3e}\".format(ps[j]) + ' RTime: ' + str(np.round(RTs[j],3))\n",
    "    B = None\n",
    "    C = '(no adduct)'\n",
    "    D = np.round(mzs[j],4)\n",
    "    E = int(zs[j])\n",
    "    F = max(0,int(RTs[j] - 10))\n",
    "    G = min(int(RTs[j] + 10),120)\n",
    "    df.loc[j] = [A,B,C,D,E,F,G]\n",
    "df.to_csv(os.path.join(SAVE_PATH,name + ' Not Filtered.csv'),index=False)"
   ]
  },
  {
   "cell_type": "markdown",
   "id": "d380a9eb",
   "metadata": {},
   "source": [
    "## Size excluding "
   ]
  },
  {
   "cell_type": "code",
   "execution_count": 35,
   "id": "4af21ff2",
   "metadata": {},
   "outputs": [],
   "source": [
    "prot = '12ca5'\n",
    "FILE_AREAS = os.path.join(SAVE_PATH,f'{prot} Full Output.csv')\n",
    "name = f'{prot} Aliquot 6 pyBinder Inclusion List'\n",
    "area_min = 1e7\n",
    "escore_min = 0.7\n",
    "prot_idx = 0"
   ]
  },
  {
   "cell_type": "code",
   "execution_count": 36,
   "id": "509fed0a",
   "metadata": {},
   "outputs": [],
   "source": [
    "data = []\n",
    "with open(FILE_AREAS, 'r') as file:\n",
    "    csv_reader = csv.DictReader(file,delimiter=',')\n",
    "    for row in csv_reader:\n",
    "        data.append(row)"
   ]
  },
  {
   "cell_type": "code",
   "execution_count": 37,
   "id": "e4ac2572",
   "metadata": {},
   "outputs": [],
   "source": [
    "RTs = []\n",
    "Escores = []\n",
    "mzs = []\n",
    "ps = []\n",
    "zs = []\n",
    "specs = []\n",
    "areas = []\n",
    "for line in data:\n",
    "    if prot in line['specificity']:\n",
    "        idx = line['Compound'].find('RTime:')\n",
    "        Escores.append(float(line['Compound'][8:idx-1]))\n",
    "        RTs.append(float(line['Compound'][idx+7:])/60)   # convert to mins\n",
    "        mzs.append(float(line['m/z']))\n",
    "        zs.append(float(line['z']))\n",
    "        ps.append(float(line['p value']))\n",
    "        specs.append(line['specificity'])\n",
    "        areas.append(line['areas'])\n",
    "    \n",
    "RT_ranges = [(max(3,RT - 10),min(RT+10,120)) for RT in RTs]   # method is 120 mins, MS on at 3 mins\n",
    "\n",
    "### if using \"inclusion list\" file\n",
    "\n",
    "# for line in data:\n",
    "#     idx = line['Compound'].find('RTime:')\n",
    "#     idx_e = line['Compound'].find('p value')\n",
    "#     Escores.append(float(line['Compound'][8:idx_e-1]))\n",
    "#     RTs.append(float(line['Compound'][idx+7:])/60)   # convert to mins\n",
    "#     mzs.append(float(line['m/z']))\n",
    "#     zs.append(float(line['z']))\n",
    "#     ps.append(float(line['Compound'][idx_e+9:idx-1]))\n",
    "    \n",
    "# RT_ranges = [(max(3,RT - 10),min(RT+10,120)) for RT in RTs]   # method is 120 mins, MS on at 3 mins"
   ]
  },
  {
   "cell_type": "code",
   "execution_count": 38,
   "id": "ee1e352e",
   "metadata": {},
   "outputs": [],
   "source": [
    "areas_split = [area[1:-1].split(',') for area in areas]\n",
    "areas_fix = [[float(val) for val in sub_fixed] for sub_fixed in areas_split]"
   ]
  },
  {
   "cell_type": "code",
   "execution_count": 39,
   "id": "f3e38ce5",
   "metadata": {},
   "outputs": [],
   "source": [
    "df = pd.DataFrame(columns=('Compound', 'Formula','Adduct','m/z','z','t start (min)','t stop (min)'))\n",
    "for j,(rt,score,mz,p,z,area) in enumerate(zip(RTs,Escores,mzs,ps,zs,areas_fix)):\n",
    "    areas_test = area[3*prot_idx:3*(prot_idx+1)]\n",
    "    if np.average(areas_test) > area_min and score > escore_min:\n",
    "        A = f'EScore: {str(np.round(score,2))} p value: {\"{:.3e}\".format(p)} RTime: {str(np.round(rt,3))} ave_area: {\"{:.1e}\".format(np.round(np.average(areas_test),0))}'\n",
    "        B = None\n",
    "        C = '(no adduct)'\n",
    "        D = np.round(mz,4)\n",
    "        E = int(z)\n",
    "        F = max(0,int(rt - 10))\n",
    "        G = min(int(rt + 10),120)\n",
    "        df.loc[j] = [A,B,C,D,E,F,G]\n",
    "df.to_csv(os.path.join(SAVE_PATH,name + ' Area Filter.csv'),index=False)"
   ]
  },
  {
   "cell_type": "markdown",
   "id": "1674ca1c",
   "metadata": {},
   "source": [
    "## Area Ranking -- Doesn't work lmao"
   ]
  },
  {
   "cell_type": "code",
   "execution_count": 29,
   "id": "c2b084cd",
   "metadata": {},
   "outputs": [
    {
     "name": "stdout",
     "output_type": "stream",
     "text": [
      "[  3.   4.   5.   6.   7.   8.   9.  10.  11.  12.  13.  14.  15.  16.\n",
      "  17.  18.  19.  20.  21.  22.  23.  24.  25.  26.  27.  28.  29.  30.\n",
      "  31.  32.  33.  34.  35.  36.  37.  38.  39.  40.  41.  42.  43.  44.\n",
      "  45.  46.  47.  48.  49.  50.  51.  52.  53.  54.  55.  56.  57.  58.\n",
      "  59.  60.  61.  62.  63.  64.  65.  66.  67.  68.  69.  70.  71.  72.\n",
      "  73.  74.  75.  76.  77.  78.  79.  80.  81.  82.  83.  84.  85.  86.\n",
      "  87.  88.  89.  90.  91.  92.  93.  94.  95.  96.  97.  98.  99. 100.\n",
      " 101. 102. 103. 104. 105. 106. 107. 108. 109. 110. 111. 112. 113. 114.\n",
      " 115. 116. 117. 118. 119. 120.]\n"
     ]
    }
   ],
   "source": [
    "RT_start = 3\n",
    "RT_end = 120\n",
    "n_bins = RT_end - RT_start + 1\n",
    "peps_min = 1\n",
    "areas_prot = [max(area[3*prot_idx:3*(prot_idx+1)]) for area in areas_fix]\n",
    "\n",
    "hist,bins = np.histogram(RTs,bins=np.linspace(RT_start,RT_end,n_bins),density=False)\n",
    "print(bins)\n",
    "    \n",
    "bin_members = np.digitize(RTs,bins=np.linspace(RT_start,RT_end,n_bins))\n",
    "unique_members = np.unique(bin_members)\n",
    "idxs_filtered = []\n",
    "for member in unique_members:\n",
    "    repeats = np.where(bin_members == member)[0]\n",
    "    idxs = repeats.copy()\n",
    "    areas_sub = [areas_prot[v] for v in repeats]\n",
    "    if len(repeats) > peps_min:\n",
    "        areas_sub_sorted = np.sort(areas_sub)   # sort from lowest to highest\n",
    "        while len(areas_sub) > peps_min:\n",
    "            delete = np.where(areas_sub == areas_sub_sorted[0])[0][0]\n",
    "            areas_sub = np.delete(areas_sub,delete)\n",
    "            idxs = np.delete(idxs,delete)\n",
    "            areas_sub_sorted = np.delete(areas_sub_sorted,0)\n",
    "    idxs_filtered.append(idxs)"
   ]
  },
  {
   "cell_type": "code",
   "execution_count": 30,
   "id": "5880419c",
   "metadata": {},
   "outputs": [],
   "source": [
    "idxs_flattened = [val for sublist in idxs_filtered for val in sublist]\n",
    "RTs_filtered = [RTs[i] for i in idxs_flattened]\n",
    "Escores_filtered = [Escores[i] for i in idxs_flattened]\n",
    "mzs_filtered = [mzs[i] for i in idxs_flattened]\n",
    "zs_filtered = [zs[i] for i in idxs_flattened]\n",
    "ps_filtered = [ps[i] for i in idxs_flattened]\n",
    "t_starts = [RT - 10 for RT in RTs_filtered]\n",
    "t_ends = [RT + 10 for RT in RTs_filtered]\n",
    "areas_filtered = [areas_fix[i] for i in idxs_flattened]"
   ]
  },
  {
   "cell_type": "code",
   "execution_count": 31,
   "id": "5c4569a1",
   "metadata": {},
   "outputs": [
    {
     "data": {
      "image/png": "[encoded data removed]",
      "text/plain": [
       "<Figure size 1152x1152 with 1 Axes>"
      ]
     },
     "metadata": {
      "needs_background": "light"
     },
     "output_type": "display_data"
    }
   ],
   "source": [
    "fig, axs = plt.subplots(1,1,figsize=(16,16))\n",
    "RT_ranges_filtered = [(max(3,RT - 10),min(RT+10,120)) for RT in RTs_filtered]   # method is 120 mins, MS on at 3 mins\n",
    "for i,pair in enumerate(RT_ranges_filtered):\n",
    "    axs.plot([pair[0],pair[1]],[mzs_filtered[i],mzs_filtered[i]])\n",
    "    axs.scatter(RTs_filtered[i],mzs_filtered[i], s=12)\n",
    "    axs.grid()"
   ]
  },
  {
   "cell_type": "code",
   "execution_count": 32,
   "id": "b5ea09ad",
   "metadata": {},
   "outputs": [],
   "source": [
    "df = pd.DataFrame(columns=('Compound', 'Formula','Adduct','m/z','z','t start (min)','t stop (min)'))\n",
    "for j,(rt,score,mz,p,z,area) in enumerate(zip(RTs,Escores,mzs,ps,zs,areas_fix)):\n",
    "    A = 'EScore: ' + str(np.round(score,2)) + ' p value: ' + \"{:.3e}\".format(p) + ' RTime: ' + str(np.round(rt,3))\n",
    "    B = None\n",
    "    C = '(no adduct)'\n",
    "    D = np.round(mz,4)\n",
    "    E = int(z)\n",
    "    F = max(0,int(rt - 10))\n",
    "    G = min(int(rt + 10),120)\n",
    "    F = area\n",
    "    df.loc[j] = [A,B,C,D,E,F,G]\n",
    "df.to_csv(os.path.join(SAVE_PATH,name + ' Area Ranking.csv'),index=False)"
   ]
  },
  {
   "cell_type": "code",
   "execution_count": null,
   "id": "268cf059",
   "metadata": {},
   "outputs": [],
   "source": []
  }
 ],
 "metadata": {
  "kernelspec": {
   "display_name": "Python 3",
   "language": "python",
   "name": "python3"
  },
  "language_info": {
   "codemirror_mode": {
    "name": "ipython",
    "version": 3
   },
   "file_extension": ".py",
   "mimetype": "text/x-python",
   "name": "python",
   "nbconvert_exporter": "python",
   "pygments_lexer": "ipython3",
   "version": "3.8.8"
  }
 },
 "nbformat": 4,
 "nbformat_minor": 5
}

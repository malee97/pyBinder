{
 "cells": [
  {
   "cell_type": "code",
   "execution_count": null,
   "metadata": {},
   "outputs": [],
   "source": [
    "import Methods as mt\n",
    "import os\n",
    "import platform\n",
    "from datetime import *\n",
    "import tkinter as tk\n",
    "from tkinter import filedialog\n",
    "from tkinter import ttk\n",
    "import threading\n",
    "import logging\n",
    "import sys\n",
    "import warnings\n",
    "import psutil\n",
    "import traceback"
   ]
  },
  {
   "cell_type": "code",
   "execution_count": null,
   "metadata": {},
   "outputs": [],
   "source": [
    "## Setup paths for openms\n",
    "openms_path = os.path.join(os.getcwd(), 'venv', 'Lib', 'site-packages', 'pyopenms', 'share', 'OpenMS')\n",
    "if platform.system() == 'Windows':     # Windows (either 32-bit or 64-bit)\n",
    "    os.system(f'set OPENMS_DATA_PATH={openms_path};%OPENMS_DATA_PATH%')\n",
    "    os.environ[\"OPENMS_DATA_PATH\"] = openms_path # try 2 ways so maybe it doesn't get mad\n",
    "elif platform.system() == \"Linux\" or \"Darwin\":      # linux or Mac OS (Darwin)\n",
    "    # os.system(f'export OPENMS_DATA_PATH = {openms_path}')\n",
    "    print(f'Warning: MSConvert not compatible with {platform.system()}')\n",
    "else:\n",
    "    raise Exception(\"Error identifying operating system\")"
   ]
  },
  {
   "cell_type": "code",
   "execution_count": null,
   "metadata": {},
   "outputs": [],
   "source": []
  }
 ],
 "metadata": {
  "kernelspec": {
   "display_name": "Python 3.9.6 64-bit",
   "language": "python",
   "name": "python3"
  },
  "language_info": {
   "name": "python",
   "version": "3.9.6"
  },
  "orig_nbformat": 4,
  "vscode": {
   "interpreter": {
    "hash": "c3b898a23a1875192910a6e0e22ef616011573b27e9185b59c9b176d8e940298"
   }
  }
 },
 "nbformat": 4,
 "nbformat_minor": 2
}
